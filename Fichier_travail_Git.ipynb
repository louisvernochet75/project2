{
 "cells": [
  {
   "cell_type": "code",
   "execution_count": 10,
   "id": "50b628f7",
   "metadata": {},
   "outputs": [],
   "source": [
    "from load_data import load_data\n",
    "from black_scholes import BlackScholes\n",
    "import pandas as pd"
   ]
  },
  {
   "cell_type": "code",
   "execution_count": 28,
   "id": "3c04b43a",
   "metadata": {},
   "outputs": [],
   "source": [
    "R=0.02\n",
    "T=float(input(\"Maturity (y):\"))\n",
    "\n",
    "'''tickers = {\n",
    "    \"ASML\": \"ASML.AS\", \"SAP\": \"SAP.DE\", \"NVIDIA\": \"NVDA\", \"META\": \"META\", \"QUALCOMM\": \"QCOM\",\n",
    "    \"TSMC\": \"TSM\", \"Infosys\": \"INFY\", \"BAE Systems\": \"BA.L\", \"Rheinmetall\": \"RHM.DE\",\n",
    "    \"Lockheed Martin\": \"LMT\", \"Northrop Grumman\": \"NOC\", \"L3Harris Technologies\": \"LHX\",\n",
    "    \"Novo Nordisk\": \"NVO\", \"Roche\": \"ROG.SW\", \"Eli Lilly\": \"LLY\", \"AbbVie\": \"ABBV\",\n",
    "    \"Samsung Biologics\": \"207940.KQ\", \"SUN PHARMA\": \"SUNPHARMA.NS\", \"BNP Paribas\": \"BNP.PA\",\n",
    "    \"Amundi\": \"AMUN.PA\", \"JPMorgan Chase\": \"JPM\", \"BlackRock\": \"BLK\", \"Morgan Stanley\": \"MS\",\n",
    "    \"DBS Group Holdings\": \"D05.SI\", \"HDFC AM\": \"HDFCAMC.NS\", \"Allianz\": \"ALV.DE\",\n",
    "    \"Zurich Insurance Group\": \"ZURN.SW\", \"Berkshire Hathaway\": \"BRK-B\", \"UnitedHealth\": \"UNH\",\n",
    "    \"LIC India\": \"LICI.NS\", \"Visa\": \"V\", \"MasterCard\": \"MA\", \"Ryanair\": \"RYAAY\",\n",
    "    \"Lufthansa\": \"LHA.DE\", \"Delta Airlines\": \"DAL\", \"United Airlines\": \"UAL\", \"Ferrari\": \"RACE\",\n",
    "    \"Richemont\": \"CFR.SW\", \"Hilton Worldwide\": \"HLT\", \"Domino's Pizza\": \"DPZ\", \"BYD\": \"1211.HK\",\n",
    "    \"TotalEnergies\": \"TTE\", \"Shell\": \"SHEL\", \"Exxon\": \"XOM\", \"Cheniere Energy\": \"LNG\",\n",
    "    \"Nestlé\": \"NESN.SW\", \"BAT\": \"BATS.L\", \"Coca\": \"KO\", \"P&G\": \"PG\", \"Telefonica\": \"TEF\",\n",
    "    \"T-Mobile US\": \"TMUS\", \"China Telecom\": \"0728.HK\", \"Singapore Telecom\": \"Z74.SI\",\n",
    "    \"Schneider Electric\": \"SU.PA\", \"Equinix\": \"EQIX\", \"American Tower\": \"AMT\", \"Iberdrola\": \"IBE.MC\",\n",
    "    \"Airbus\": \"AIR.PA\",\n",
    "}'''\n",
    "tickers = ['AAPL']\n",
    "#tickers = {'AAPL', 'MSFT', 'GOOGL'}\n",
    "start_date = None\n"
   ]
  },
  {
   "cell_type": "code",
   "execution_count": 29,
   "id": "0ebf4f8e",
   "metadata": {},
   "outputs": [
    {
     "data": {
      "text/html": [
       "<div>\n",
       "<style scoped>\n",
       "    .dataframe tbody tr th:only-of-type {\n",
       "        vertical-align: middle;\n",
       "    }\n",
       "\n",
       "    .dataframe tbody tr th {\n",
       "        vertical-align: top;\n",
       "    }\n",
       "\n",
       "    .dataframe thead th {\n",
       "        text-align: right;\n",
       "    }\n",
       "</style>\n",
       "<table border=\"1\" class=\"dataframe\">\n",
       "  <thead>\n",
       "    <tr style=\"text-align: right;\">\n",
       "      <th></th>\n",
       "      <th>Stock</th>\n",
       "      <th>Latest Price (€)</th>\n",
       "      <th>Annualized Volatility (%)</th>\n",
       "    </tr>\n",
       "  </thead>\n",
       "  <tbody>\n",
       "    <tr>\n",
       "      <th>0</th>\n",
       "      <td>AAPL</td>\n",
       "      <td>211.26</td>\n",
       "      <td>44.12</td>\n",
       "    </tr>\n",
       "  </tbody>\n",
       "</table>\n",
       "</div>"
      ],
      "text/plain": [
       "  Stock  Latest Price (€)  Annualized Volatility (%)\n",
       "0  AAPL            211.26                      44.12"
      ]
     },
     "execution_count": 29,
     "metadata": {},
     "output_type": "execute_result"
    }
   ],
   "source": [
    "price_df, vol, latest_price, stocks = load_data(tickers, start_date)\n",
    "\n",
    "stocks"
   ]
  },
  {
   "cell_type": "markdown",
   "id": "956d72f9",
   "metadata": {},
   "source": [
    "# Plusieurs actions"
   ]
  },
  {
   "cell_type": "code",
   "execution_count": 30,
   "id": "ff252537",
   "metadata": {},
   "outputs": [],
   "source": [
    "stock_inputs = [\n",
    "    {'Stock': ticker, 'S': latest_price[ticker], 'K': latest_price[ticker]*1.05, 'sigma': vol[ticker]}\n",
    "    for ticker in tickers\n",
    "]\n",
    "\n",
    "option_prices_df, greeks_df = BlackScholes.batch_compute(stock_inputs, R, T, option='BOTH')\n"
   ]
  },
  {
   "cell_type": "code",
   "execution_count": 31,
   "id": "f05b70ab",
   "metadata": {},
   "outputs": [
    {
     "data": {
      "text/html": [
       "<div>\n",
       "<style scoped>\n",
       "    .dataframe tbody tr th:only-of-type {\n",
       "        vertical-align: middle;\n",
       "    }\n",
       "\n",
       "    .dataframe tbody tr th {\n",
       "        vertical-align: top;\n",
       "    }\n",
       "\n",
       "    .dataframe thead th {\n",
       "        text-align: right;\n",
       "    }\n",
       "</style>\n",
       "<table border=\"1\" class=\"dataframe\">\n",
       "  <thead>\n",
       "    <tr style=\"text-align: right;\">\n",
       "      <th></th>\n",
       "      <th>Greek</th>\n",
       "      <th>Call</th>\n",
       "      <th>Put</th>\n",
       "      <th>Stock</th>\n",
       "    </tr>\n",
       "  </thead>\n",
       "  <tbody>\n",
       "    <tr>\n",
       "      <th>0</th>\n",
       "      <td>Delta</td>\n",
       "      <td>0.512618</td>\n",
       "      <td>0.487382</td>\n",
       "      <td>AAPL</td>\n",
       "    </tr>\n",
       "    <tr>\n",
       "      <th>1</th>\n",
       "      <td>Gamma</td>\n",
       "      <td>0.006050</td>\n",
       "      <td>0.006050</td>\n",
       "      <td>AAPL</td>\n",
       "    </tr>\n",
       "    <tr>\n",
       "      <th>2</th>\n",
       "      <td>Theta</td>\n",
       "      <td>-27.990093</td>\n",
       "      <td>-23.597777</td>\n",
       "      <td>AAPL</td>\n",
       "    </tr>\n",
       "    <tr>\n",
       "      <th>3</th>\n",
       "      <td>Vega</td>\n",
       "      <td>59.565532</td>\n",
       "      <td>59.565532</td>\n",
       "      <td>AAPL</td>\n",
       "    </tr>\n",
       "    <tr>\n",
       "      <th>4</th>\n",
       "      <td>Rho</td>\n",
       "      <td>42.782787</td>\n",
       "      <td>-67.025122</td>\n",
       "      <td>AAPL</td>\n",
       "    </tr>\n",
       "  </tbody>\n",
       "</table>\n",
       "</div>"
      ],
      "text/plain": [
       "   Greek       Call        Put Stock\n",
       "0  Delta   0.512618   0.487382  AAPL\n",
       "1  Gamma   0.006050   0.006050  AAPL\n",
       "2  Theta -27.990093 -23.597777  AAPL\n",
       "3   Vega  59.565532  59.565532  AAPL\n",
       "4    Rho  42.782787 -67.025122  AAPL"
      ]
     },
     "execution_count": 31,
     "metadata": {},
     "output_type": "execute_result"
    }
   ],
   "source": [
    "greeks_df"
   ]
  },
  {
   "cell_type": "code",
   "execution_count": 32,
   "id": "443e3a5d",
   "metadata": {},
   "outputs": [
    {
     "data": {
      "text/html": [
       "<div>\n",
       "<style scoped>\n",
       "    .dataframe tbody tr th:only-of-type {\n",
       "        vertical-align: middle;\n",
       "    }\n",
       "\n",
       "    .dataframe tbody tr th {\n",
       "        vertical-align: top;\n",
       "    }\n",
       "\n",
       "    .dataframe thead th {\n",
       "        text-align: right;\n",
       "    }\n",
       "</style>\n",
       "<table border=\"1\" class=\"dataframe\">\n",
       "  <thead>\n",
       "    <tr style=\"text-align: right;\">\n",
       "      <th></th>\n",
       "      <th>Stock</th>\n",
       "      <th>Spot (€)</th>\n",
       "      <th>Strike (€)</th>\n",
       "      <th>Call Price (€)</th>\n",
       "      <th>Put Price (€)</th>\n",
       "    </tr>\n",
       "  </thead>\n",
       "  <tbody>\n",
       "    <tr>\n",
       "      <th>0</th>\n",
       "      <td>AAPL</td>\n",
       "      <td>211.26</td>\n",
       "      <td>221.82</td>\n",
       "      <td>22.7301</td>\n",
       "      <td>31.086</td>\n",
       "    </tr>\n",
       "  </tbody>\n",
       "</table>\n",
       "</div>"
      ],
      "text/plain": [
       "  Stock  Spot (€)  Strike (€)  Call Price (€)  Put Price (€)\n",
       "0  AAPL    211.26      221.82         22.7301         31.086"
      ]
     },
     "execution_count": 32,
     "metadata": {},
     "output_type": "execute_result"
    }
   ],
   "source": [
    "option_prices_df"
   ]
  },
  {
   "cell_type": "markdown",
   "id": "a640ea65",
   "metadata": {},
   "source": [
    "# Une seule action"
   ]
  },
  {
   "cell_type": "code",
   "execution_count": 33,
   "id": "fe813923",
   "metadata": {},
   "outputs": [
    {
     "name": "stderr",
     "output_type": "stream",
     "text": [
      "c:\\Users\\louis\\Desktop\\Python Perso\\Portfolio\\Louis\\black_scholes.py:8: FutureWarning: Calling float on a single element Series is deprecated and will raise a TypeError in the future. Use float(ser.iloc[0]) instead\n",
      "  self.S=float(S)\n",
      "c:\\Users\\louis\\Desktop\\Python Perso\\Portfolio\\Louis\\black_scholes.py:9: FutureWarning: Calling float on a single element Series is deprecated and will raise a TypeError in the future. Use float(ser.iloc[0]) instead\n",
      "  self.K=float(K)\n",
      "c:\\Users\\louis\\Desktop\\Python Perso\\Portfolio\\Louis\\black_scholes.py:12: FutureWarning: Calling float on a single element Series is deprecated and will raise a TypeError in the future. Use float(ser.iloc[0]) instead\n",
      "  self.sigma=float(sigma)\n"
     ]
    }
   ],
   "source": [
    "S = latest_price\n",
    "K=S*1.05\n",
    "sigma=vol\n",
    "\n",
    "bs=BlackScholes(S,K,R,T,sigma)"
   ]
  },
  {
   "cell_type": "code",
   "execution_count": 36,
   "id": "384b4c3e",
   "metadata": {},
   "outputs": [
    {
     "name": "stdout",
     "output_type": "stream",
     "text": [
      "Spot : 211.26€\n",
      "Price : 22.73€\n",
      "Strike : 221.82€\n"
     ]
    },
    {
     "data": {
      "text/html": [
       "<div>\n",
       "<style scoped>\n",
       "    .dataframe tbody tr th:only-of-type {\n",
       "        vertical-align: middle;\n",
       "    }\n",
       "\n",
       "    .dataframe tbody tr th {\n",
       "        vertical-align: top;\n",
       "    }\n",
       "\n",
       "    .dataframe thead th {\n",
       "        text-align: right;\n",
       "    }\n",
       "</style>\n",
       "<table border=\"1\" class=\"dataframe\">\n",
       "  <thead>\n",
       "    <tr style=\"text-align: right;\">\n",
       "      <th></th>\n",
       "      <th>Greek</th>\n",
       "      <th>Value</th>\n",
       "    </tr>\n",
       "  </thead>\n",
       "  <tbody>\n",
       "    <tr>\n",
       "      <th>0</th>\n",
       "      <td>delta</td>\n",
       "      <td>0.512618</td>\n",
       "    </tr>\n",
       "    <tr>\n",
       "      <th>1</th>\n",
       "      <td>gamma</td>\n",
       "      <td>0.006050</td>\n",
       "    </tr>\n",
       "    <tr>\n",
       "      <th>2</th>\n",
       "      <td>theta</td>\n",
       "      <td>-27.990093</td>\n",
       "    </tr>\n",
       "    <tr>\n",
       "      <th>3</th>\n",
       "      <td>vega</td>\n",
       "      <td>59.565532</td>\n",
       "    </tr>\n",
       "    <tr>\n",
       "      <th>4</th>\n",
       "      <td>rho</td>\n",
       "      <td>42.782787</td>\n",
       "    </tr>\n",
       "  </tbody>\n",
       "</table>\n",
       "</div>"
      ],
      "text/plain": [
       "   Greek      Value\n",
       "0  delta   0.512618\n",
       "1  gamma   0.006050\n",
       "2  theta -27.990093\n",
       "3   vega  59.565532\n",
       "4    rho  42.782787"
      ]
     },
     "execution_count": 36,
     "metadata": {},
     "output_type": "execute_result"
    }
   ],
   "source": [
    "print(f\"Spot : {bs.S:.2f}€\")\n",
    "print(f\"Price : {bs.black_scholes():.2f}€\")\n",
    "print(f\"Strike : {bs.K:.2f}€\")\n",
    "bs.black_scholes_greeks()"
   ]
  },
  {
   "cell_type": "code",
   "execution_count": null,
   "id": "f6a15210",
   "metadata": {},
   "outputs": [],
   "source": []
  }
 ],
 "metadata": {
  "kernelspec": {
   "display_name": "Python 3",
   "language": "python",
   "name": "python3"
  },
  "language_info": {
   "codemirror_mode": {
    "name": "ipython",
    "version": 3
   },
   "file_extension": ".py",
   "mimetype": "text/x-python",
   "name": "python",
   "nbconvert_exporter": "python",
   "pygments_lexer": "ipython3",
   "version": "3.13.0"
  }
 },
 "nbformat": 4,
 "nbformat_minor": 5
}
