{
 "cells": [
  {
   "cell_type": "code",
   "execution_count": 11,
   "id": "15cdd030",
   "metadata": {},
   "outputs": [],
   "source": [
    "from data_loader import load_data"
   ]
  },
  {
   "cell_type": "code",
   "execution_count": 12,
   "id": "53931337",
   "metadata": {},
   "outputs": [
    {
     "name": "stdout",
     "output_type": "stream",
     "text": [
      "Ticker\n",
      "AAPL    0.305837\n",
      "dtype: float64\n",
      "Ticker\n",
      "AAPL    210.789993\n",
      "Name: 2025-05-12 00:00:00, dtype: float64\n"
     ]
    },
    {
     "data": {
      "text/html": [
       "<div>\n",
       "<style scoped>\n",
       "    .dataframe tbody tr th:only-of-type {\n",
       "        vertical-align: middle;\n",
       "    }\n",
       "\n",
       "    .dataframe tbody tr th {\n",
       "        vertical-align: top;\n",
       "    }\n",
       "\n",
       "    .dataframe thead th {\n",
       "        text-align: right;\n",
       "    }\n",
       "</style>\n",
       "<table border=\"1\" class=\"dataframe\">\n",
       "  <thead>\n",
       "    <tr style=\"text-align: right;\">\n",
       "      <th>Ticker</th>\n",
       "      <th>AAPL</th>\n",
       "    </tr>\n",
       "    <tr>\n",
       "      <th>Date</th>\n",
       "      <th></th>\n",
       "    </tr>\n",
       "  </thead>\n",
       "  <tbody>\n",
       "    <tr>\n",
       "      <th>2024-01-02</th>\n",
       "      <td>184.532089</td>\n",
       "    </tr>\n",
       "    <tr>\n",
       "      <th>2024-01-03</th>\n",
       "      <td>183.150391</td>\n",
       "    </tr>\n",
       "    <tr>\n",
       "      <th>2024-01-04</th>\n",
       "      <td>180.824341</td>\n",
       "    </tr>\n",
       "    <tr>\n",
       "      <th>2024-01-05</th>\n",
       "      <td>180.098694</td>\n",
       "    </tr>\n",
       "    <tr>\n",
       "      <th>2024-01-08</th>\n",
       "      <td>184.452560</td>\n",
       "    </tr>\n",
       "    <tr>\n",
       "      <th>...</th>\n",
       "      <td>...</td>\n",
       "    </tr>\n",
       "    <tr>\n",
       "      <th>2025-05-06</th>\n",
       "      <td>198.509995</td>\n",
       "    </tr>\n",
       "    <tr>\n",
       "      <th>2025-05-07</th>\n",
       "      <td>196.250000</td>\n",
       "    </tr>\n",
       "    <tr>\n",
       "      <th>2025-05-08</th>\n",
       "      <td>197.490005</td>\n",
       "    </tr>\n",
       "    <tr>\n",
       "      <th>2025-05-09</th>\n",
       "      <td>198.529999</td>\n",
       "    </tr>\n",
       "    <tr>\n",
       "      <th>2025-05-12</th>\n",
       "      <td>210.789993</td>\n",
       "    </tr>\n",
       "  </tbody>\n",
       "</table>\n",
       "<p>341 rows × 1 columns</p>\n",
       "</div>"
      ],
      "text/plain": [
       "Ticker            AAPL\n",
       "Date                  \n",
       "2024-01-02  184.532089\n",
       "2024-01-03  183.150391\n",
       "2024-01-04  180.824341\n",
       "2024-01-05  180.098694\n",
       "2024-01-08  184.452560\n",
       "...                ...\n",
       "2025-05-06  198.509995\n",
       "2025-05-07  196.250000\n",
       "2025-05-08  197.490005\n",
       "2025-05-09  198.529999\n",
       "2025-05-12  210.789993\n",
       "\n",
       "[341 rows x 1 columns]"
      ]
     },
     "execution_count": 12,
     "metadata": {},
     "output_type": "execute_result"
    }
   ],
   "source": [
    "# 1) Plusieurs tickers\n",
    "tickers = 'AAPL'\n",
    "start   = '2024-01-01'\n",
    "history, vol, latest_price = load_data(tickers, start)\n",
    "\n",
    "print(vol)    # volatilités annualisées\n",
    "print(latest_price)  # derniers prix ajustés\n",
    "history"
   ]
  },
  {
   "cell_type": "code",
   "execution_count": 13,
   "id": "71cf52ac",
   "metadata": {},
   "outputs": [],
   "source": [
    "import numpy as np\n",
    "from scipy.stats import norm\n",
    "\n",
    "class BlackScholes:\n",
    "    def __init__ (self,S,K,R,T,sigma, option=None):\n",
    "        self.S=S\n",
    "        self.K=K\n",
    "        self.R=R\n",
    "        self.T=T\n",
    "        self.sigma=sigma\n",
    "        self.option = option if option else input(\"Call (C), Put (P), or both: \").strip().upper()\n",
    "        self.d1, self.d2 = self.calculate_d1_d2()\n",
    "    \n",
    "    def calculate_d1_d2(self):\n",
    "        d1 = (np.log(self.S / self.K) + (self.R + 0.5 * self.sigma**2) * self.T) / (self.sigma * np.sqrt(self.T))\n",
    "        d2 = d1 - self.sigma * np.sqrt(self.T)\n",
    "        return d1,d2\n",
    "\n",
    "    def black_scholes(self):\n",
    "        d1, d2 = self.calculate_d1_d2()\n",
    "        call = self.S * norm.cdf(d1) - self.K * np.exp(-self.R * self.T) * norm.cdf(d2)\n",
    "        put = self.K * np.exp(-self.R * self.T) * norm.cdf(-d2) - self.S * norm.cdf(-d1)\n",
    "        if self.option == 'C':\n",
    "            return call\n",
    "        elif self.option == 'P':\n",
    "            return put\n",
    "        else:\n",
    "            return call, put\n",
    "\n",
    "    def black_scholes_greeks(self):\n",
    "        d1, d2 = self.d1, self.d2\n",
    "        call_delta = norm.cdf(d1)\n",
    "        put_delta = norm.cdf(-d1)\n",
    "        gamma = norm.pdf(d1) / (self.S * self.sigma * np.sqrt(self.T))\n",
    "        call_theta = (-self.S * self.sigma * norm.pdf(d1)) / (2 * np.sqrt(self.T)) - self.R * self.K * np.exp(-self.R * self.T) * norm.cdf(d2)\n",
    "        put_theta = (-self.S * self.sigma * norm.pdf(-d1)) / (2 * np.sqrt(self.T)) + self.R * self.K * np.exp(-self.R * self.T) * norm.cdf(-d2)\n",
    "        vega = self.S * np.sqrt(self.T) * norm.pdf(d1)\n",
    "        rho_call = self.K * self.T * np.exp(-self.R * self.T) * norm.cdf(d2)\n",
    "        rho_put = -self.K * self.T * np.exp(-self.R * self.T) * norm.cdf(-d2)\n",
    "\n",
    "        if self.option == 'C':\n",
    "            return {'delta': call_delta, 'gamma': gamma,'theta': call_theta, 'vega': vega,'rho': rho_call}\n",
    "        elif self.option == 'P':\n",
    "            return {'delta': put_delta, 'gamma': gamma,'theta': put_theta, 'vega': vega, 'rho': rho_put}\n",
    "        else:\n",
    "            return {'call_delta': call_delta, 'put_delta': put_delta, 'gamma': gamma,'call_theta': call_theta, 'put_theta': put_theta, 'vega': vega,'rho_call': rho_call, 'rho_put': rho_put}\n",
    "\n",
    "    \n",
    "    \n",
    "\n",
    "    "
   ]
  },
  {
   "cell_type": "code",
   "execution_count": 29,
   "id": "5dc7b4a0",
   "metadata": {},
   "outputs": [],
   "source": [
    "bs=BlackScholes(S=latest_price,K=latest_price+30, R=0.03,sigma=vol, T=1)"
   ]
  },
  {
   "cell_type": "code",
   "execution_count": 30,
   "id": "dc39d561",
   "metadata": {},
   "outputs": [
    {
     "name": "stdout",
     "output_type": "stream",
     "text": [
      "Ticker\n",
      "AAPL    17.073447\n",
      "Name: 2025-05-12 00:00:00, dtype: float64\n"
     ]
    }
   ],
   "source": [
    "print(bs.black_scholes())\n"
   ]
  },
  {
   "cell_type": "code",
   "execution_count": null,
   "id": "02bbb5ca",
   "metadata": {},
   "outputs": [],
   "source": []
  }
 ],
 "metadata": {
  "kernelspec": {
   "display_name": "Python 3",
   "language": "python",
   "name": "python3"
  },
  "language_info": {
   "codemirror_mode": {
    "name": "ipython",
    "version": 3
   },
   "file_extension": ".py",
   "mimetype": "text/x-python",
   "name": "python",
   "nbconvert_exporter": "python",
   "pygments_lexer": "ipython3",
   "version": "3.13.3"
  }
 },
 "nbformat": 4,
 "nbformat_minor": 5
}
