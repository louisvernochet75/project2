{
 "cells": [
  {
   "cell_type": "code",
   "execution_count": null,
   "id": "235875b8",
   "metadata": {},
   "outputs": [],
   "source": [
    "import numpy as np\n",
    "\n",
    "def mc_simulation(S,K,T,R,sigma, nb_simulations):\n",
    "    dt=T/252\n",
    "    prices=np.zeros((nb_simulations,int(252*T)+1))\n",
    "    prices[:,0]=S\n",
    "\n",
    "    for t in range(1,int(252*T)+1):\n",
    "        z = np.random.standard_normal(nb_simulations)\n",
    "        prices[:, t] = prices[:, t-1] * np.exp((r - 0.5 * sigma ** 2) * dt + sigma * np.sqrt(dt) * z)\n",
    "        "
   ]
  },
  {
   "cell_type": "code",
   "execution_count": null,
   "id": "4228a544",
   "metadata": {},
   "outputs": [],
   "source": []
  }
 ],
 "metadata": {
  "kernelspec": {
   "display_name": "Python 3",
   "language": "python",
   "name": "python3"
  },
  "language_info": {
   "codemirror_mode": {
    "name": "ipython",
    "version": 3
   },
   "file_extension": ".py",
   "mimetype": "text/x-python",
   "name": "python",
   "nbconvert_exporter": "python",
   "pygments_lexer": "ipython3",
   "version": "3.13.0"
  }
 },
 "nbformat": 4,
 "nbformat_minor": 5
}
